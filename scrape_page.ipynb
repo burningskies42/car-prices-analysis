{
 "cells": [
  {
   "cell_type": "code",
   "execution_count": 2,
   "metadata": {},
   "outputs": [],
   "source": [
    "import pandas as pd"
   ]
  },
  {
   "cell_type": "code",
   "execution_count": 91,
   "metadata": {},
   "outputs": [],
   "source": []
  },
  {
   "cell_type": "code",
   "execution_count": 98,
   "metadata": {
    "tags": [
     "outputPrepend"
    ]
   },
   "outputs": [
    {
     "output_type": "stream",
     "name": "stderr",
     "text": "100%|██████████| 5/5 [00:05<00:00,  1.09s/it]\n"
    }
   ],
   "source": [
    "cars_list = []\n",
    "\n",
    "with open('/home/leon/Documents/repos/car-prices-analysis/crawler/links copy.csv','r') as f:\n",
    "    \n",
    "    urls = [l.strip('\\n') for l in f.readlines()]\n",
    "    \n",
    "    for url in tqdm.tqdm(urls):\n",
    "        cars_list.append(carProperties(url).get_data())\n",
    "\n",
    "    cars_df = pd.concat(cars_list,axis=1).T"
   ]
  },
  {
   "cell_type": "code",
   "execution_count": 99,
   "metadata": {},
   "outputs": [
    {
     "output_type": "execute_result",
     "data": {
      "text/plain": "                 brand  price  age power engine automatic_transmission  \\\n82-419980  Mini (BMW)   11490   65   102   1198                  False   \n75-41908    Volkswagen  11940   86   105   1197                   True   \n71-41507    Volkswagen   9240   38    60    999                   True   \n77-39243    Volkswagen  10850   55   110   1000                   True   \n77-40464    Volkswagen   8450  109   122   1390                   True   \n\n          guarantee motor_size prev_owners doors  ... Fernlichtassistent  \\\n82-419980      True       1198           2     3  ...              False   \n75-41908       True       1197           2     4  ...              False   \n71-41507       True        999           1     4  ...              False   \n77-39243       True       1000           1     4  ...              False   \n77-40464       True       1390           2     4  ...              False   \n\n          Kurvenlicht ISOFIX vorbereitet Schiebedach el. Heckklappe  \\\n82-419980       False              False       False          False   \n75-41908        False               True        True          False   \n71-41507        False               True       False          False   \n77-39243        False               True       False          False   \n77-40464        False               True       False          False   \n\n          Nebelleuchten elektr. Differentialsperre Multifunktionslenkrad  \\\n82-419980          True                      False                 False   \n75-41908          False                       True                 False   \n71-41507          False                       True                 False   \n77-39243           True                       True                 False   \n77-40464          False                       True                 False   \n\n          LED Heckleuchten   model  \n82-419980            False     NaN  \n75-41908             False    Golf  \n71-41507             False    Polo  \n77-39243             False    Polo  \n77-40464             False  Passat  \n\n[5 rows x 75 columns]",
      "text/html": "<div>\n<style scoped>\n    .dataframe tbody tr th:only-of-type {\n        vertical-align: middle;\n    }\n\n    .dataframe tbody tr th {\n        vertical-align: top;\n    }\n\n    .dataframe thead th {\n        text-align: right;\n    }\n</style>\n<table border=\"1\" class=\"dataframe\">\n  <thead>\n    <tr style=\"text-align: right;\">\n      <th></th>\n      <th>brand</th>\n      <th>price</th>\n      <th>age</th>\n      <th>power</th>\n      <th>engine</th>\n      <th>automatic_transmission</th>\n      <th>guarantee</th>\n      <th>motor_size</th>\n      <th>prev_owners</th>\n      <th>doors</th>\n      <th>...</th>\n      <th>Fernlichtassistent</th>\n      <th>Kurvenlicht</th>\n      <th>ISOFIX vorbereitet</th>\n      <th>Schiebedach</th>\n      <th>el. Heckklappe</th>\n      <th>Nebelleuchten</th>\n      <th>elektr. Differentialsperre</th>\n      <th>Multifunktionslenkrad</th>\n      <th>LED Heckleuchten</th>\n      <th>model</th>\n    </tr>\n  </thead>\n  <tbody>\n    <tr>\n      <th>82-419980</th>\n      <td>Mini (BMW)</td>\n      <td>11490</td>\n      <td>65</td>\n      <td>102</td>\n      <td>1198</td>\n      <td>False</td>\n      <td>True</td>\n      <td>1198</td>\n      <td>2</td>\n      <td>3</td>\n      <td>...</td>\n      <td>False</td>\n      <td>False</td>\n      <td>False</td>\n      <td>False</td>\n      <td>False</td>\n      <td>True</td>\n      <td>False</td>\n      <td>False</td>\n      <td>False</td>\n      <td>NaN</td>\n    </tr>\n    <tr>\n      <th>75-41908</th>\n      <td>Volkswagen</td>\n      <td>11940</td>\n      <td>86</td>\n      <td>105</td>\n      <td>1197</td>\n      <td>True</td>\n      <td>True</td>\n      <td>1197</td>\n      <td>2</td>\n      <td>4</td>\n      <td>...</td>\n      <td>False</td>\n      <td>False</td>\n      <td>True</td>\n      <td>True</td>\n      <td>False</td>\n      <td>False</td>\n      <td>True</td>\n      <td>False</td>\n      <td>False</td>\n      <td>Golf</td>\n    </tr>\n    <tr>\n      <th>71-41507</th>\n      <td>Volkswagen</td>\n      <td>9240</td>\n      <td>38</td>\n      <td>60</td>\n      <td>999</td>\n      <td>True</td>\n      <td>True</td>\n      <td>999</td>\n      <td>1</td>\n      <td>4</td>\n      <td>...</td>\n      <td>False</td>\n      <td>False</td>\n      <td>True</td>\n      <td>False</td>\n      <td>False</td>\n      <td>False</td>\n      <td>True</td>\n      <td>False</td>\n      <td>False</td>\n      <td>Polo</td>\n    </tr>\n    <tr>\n      <th>77-39243</th>\n      <td>Volkswagen</td>\n      <td>10850</td>\n      <td>55</td>\n      <td>110</td>\n      <td>1000</td>\n      <td>True</td>\n      <td>True</td>\n      <td>1000</td>\n      <td>1</td>\n      <td>4</td>\n      <td>...</td>\n      <td>False</td>\n      <td>False</td>\n      <td>True</td>\n      <td>False</td>\n      <td>False</td>\n      <td>True</td>\n      <td>True</td>\n      <td>False</td>\n      <td>False</td>\n      <td>Polo</td>\n    </tr>\n    <tr>\n      <th>77-40464</th>\n      <td>Volkswagen</td>\n      <td>8450</td>\n      <td>109</td>\n      <td>122</td>\n      <td>1390</td>\n      <td>True</td>\n      <td>True</td>\n      <td>1390</td>\n      <td>2</td>\n      <td>4</td>\n      <td>...</td>\n      <td>False</td>\n      <td>False</td>\n      <td>True</td>\n      <td>False</td>\n      <td>False</td>\n      <td>False</td>\n      <td>True</td>\n      <td>False</td>\n      <td>False</td>\n      <td>Passat</td>\n    </tr>\n  </tbody>\n</table>\n<p>5 rows × 75 columns</p>\n</div>"
     },
     "metadata": {},
     "execution_count": 99
    }
   ],
   "source": [
    "cars_df"
   ]
  }
 ],
 "metadata": {
  "language_info": {
   "codemirror_mode": {
    "name": "ipython",
    "version": 3
   },
   "file_extension": ".py",
   "mimetype": "text/x-python",
   "name": "python",
   "nbconvert_exporter": "python",
   "pygments_lexer": "ipython3",
   "version": "3.7.5-final"
  },
  "orig_nbformat": 2,
  "kernelspec": {
   "name": "python37564bitfc42decc6e4b4913ae65faa2eb298ee5",
   "display_name": "Python 3.7.5 64-bit"
  }
 },
 "nbformat": 4,
 "nbformat_minor": 2
}