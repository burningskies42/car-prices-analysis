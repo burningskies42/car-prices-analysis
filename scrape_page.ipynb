{
 "cells": [
  {
   "cell_type": "code",
   "execution_count": 98,
   "metadata": {},
   "outputs": [],
   "source": [
    "import pandas as pd\n",
    "import multiprocessing\n",
    "import tqdm\n",
    "import pickle\n",
    "import re\n",
    "\n",
    "from mypostgres import PostgresConnection\n",
    "\n",
    "from scraper import carProperties\n",
    "\n",
    "from joblib import Parallel, delayed\n",
    "num_cores = multiprocessing.cpu_count()\n",
    "\n",
    "import statsmodels.api as sm\n",
    "import statsmodels.formula.api as smf\n",
    "import numpy as np\n",
    "\n",
    "import getpass\n"
   ]
  },
  {
   "cell_type": "code",
   "execution_count": 107,
   "metadata": {},
   "outputs": [],
   "source": [
    "from importlib import reload\n",
    "import mypostgres as pgs"
   ]
  },
  {
   "cell_type": "markdown",
   "metadata": {},
   "source": [
    "## Scrape Pages in parallel"
   ]
  },
  {
   "cell_type": "code",
   "execution_count": 2,
   "metadata": {
    "tags": [
     "outputPrepend"
    ]
   },
   "outputs": [
    {
     "output_type": "stream",
     "name": "stderr",
     "text": "100%|██████████| 760/760 [05:06<00:00,  2.48it/s]\n"
    }
   ],
   "source": [
    "cars_list = []\n",
    "\n",
    "def get_car_data(url):\n",
    "    return carProperties(url).get_data()\n",
    "\n",
    "with open('/home/leon/Documents/repos/car-prices-analysis/crawler/links copy.csv','r') as f:\n",
    "    \n",
    "    urls = [l.strip('\\n') for l in f.readlines()]\n",
    "    cars_list = Parallel(n_jobs=num_cores)(delayed(get_car_data)(url) for url in tqdm.tqdm(urls))\n",
    "\n",
    "    cars_df = pd.concat(cars_list,axis=1).T"
   ]
  },
  {
   "cell_type": "code",
   "execution_count": 23,
   "metadata": {},
   "outputs": [],
   "source": [
    "cars_df = cars_df.infer_objects()\n",
    "cars_df['power'] = cars_df['power'].astype('int')\n",
    "cars_df[['brand','model']] = cars_df[['brand','model']].astype('category')"
   ]
  },
  {
   "cell_type": "code",
   "execution_count": 39,
   "metadata": {},
   "outputs": [],
   "source": [
    "with open('cars_data.pkl','wb') as f:\n",
    "    pickle.dump(cars_df,f)\n",
    "    "
   ]
  },
  {
   "cell_type": "code",
   "execution_count": 108,
   "metadata": {},
   "outputs": [
    {
     "output_type": "error",
     "ename": "TypeError",
     "evalue": "__init__() got an unexpected keyword argument 'schema'",
     "traceback": [
      "\u001b[0;31m---------------------------------------------------------------------------\u001b[0m",
      "\u001b[0;31mTypeError\u001b[0m                                 Traceback (most recent call last)",
      "\u001b[0;32m<ipython-input-108-8ee0975b145a>\u001b[0m in \u001b[0;36m<module>\u001b[0;34m\u001b[0m\n\u001b[0;32m----> 1\u001b[0;31m \u001b[0;32mwith\u001b[0m \u001b[0mpgs\u001b[0m\u001b[0;34m.\u001b[0m\u001b[0mPostgresConnection\u001b[0m\u001b[0;34m(\u001b[0m\u001b[0mdbname\u001b[0m\u001b[0;34m=\u001b[0m\u001b[0;34m'random'\u001b[0m\u001b[0;34m,\u001b[0m\u001b[0mhost\u001b[0m\u001b[0;34m=\u001b[0m\u001b[0;34m'192.168.1.218'\u001b[0m\u001b[0;34m,\u001b[0m\u001b[0mschema\u001b[0m\u001b[0;34m=\u001b[0m\u001b[0;34m'cars'\u001b[0m\u001b[0;34m,\u001b[0m\u001b[0muser\u001b[0m\u001b[0;34m=\u001b[0m\u001b[0;34m'leon'\u001b[0m\u001b[0;34m,\u001b[0m\u001b[0mpassword\u001b[0m\u001b[0;34m=\u001b[0m\u001b[0mgetpass\u001b[0m\u001b[0;34m.\u001b[0m\u001b[0mgetpass\u001b[0m\u001b[0;34m(\u001b[0m\u001b[0;34m'PSQL password: '\u001b[0m\u001b[0;34m)\u001b[0m\u001b[0;34m)\u001b[0m \u001b[0;32mas\u001b[0m \u001b[0mconn\u001b[0m\u001b[0;34m:\u001b[0m\u001b[0;34m\u001b[0m\u001b[0;34m\u001b[0m\u001b[0m\n\u001b[0m\u001b[1;32m      2\u001b[0m     \u001b[0mconn\u001b[0m\u001b[0;34m.\u001b[0m\u001b[0mcreate_table_from_df\u001b[0m\u001b[0;34m(\u001b[0m\u001b[0mcars_df\u001b[0m\u001b[0;34m,\u001b[0m\u001b[0;34m'fct_cars'\u001b[0m\u001b[0;34m)\u001b[0m\u001b[0;34m\u001b[0m\u001b[0;34m\u001b[0m\u001b[0m\n",
      "\u001b[0;31mTypeError\u001b[0m: __init__() got an unexpected keyword argument 'schema'"
     ]
    }
   ],
   "source": [
    "with pgs.PostgresConnection(dbname='random',host='192.168.1.218',schema='cars',user='leon',password=getpass.getpass('PSQL password: ')) as conn:\n",
    "    conn.create_table_from_df(cars_df,'fct_cars')"
   ]
  },
  {
   "cell_type": "markdown",
   "metadata": {},
   "source": [
    "## Run regression"
   ]
  },
  {
   "cell_type": "code",
   "execution_count": 94,
   "metadata": {},
   "outputs": [
    {
     "output_type": "stream",
     "name": "stdout",
     "text": "OLS Regression Results                            \n==============================================================================\nDep. Variable:                  price   R-squared:                       0.908\nModel:                            OLS   Adj. R-squared:                  0.895\nMethod:                 Least Squares   F-statistic:                     70.82\nDate:                Sun, 10 May 2020   Prob (F-statistic):          9.82e-286\nTime:                        18:38:21   Log-Likelihood:                -6496.2\nNo. Observations:                 752   AIC:                         1.318e+04\nDf Residuals:                     659   BIC:                         1.361e+04\nDf Model:                          92                                         \nCovariance Type:            nonrobust                                         \n====================================================================================================\n                                       coef    std err          t      P>|t|      [0.025      0.975]\n----------------------------------------------------------------------------------------------------\nC(brand)[Audi]                    5346.3341    575.226      9.294      0.000    4216.837    6475.832\nC(brand)[Mini (BMW) ]            -7.947e-09   1.71e-09     -4.648      0.000   -1.13e-08   -4.59e-09\nC(brand)[Mitsubishi]              1657.0434    895.944      1.849      0.065    -102.206    3416.293\nC(brand)[Smart]                   -842.3566    702.520     -1.199      0.231   -2221.803     537.090\nC(brand)[Volkswagen]              3995.7972    840.044      4.757      0.000    2346.311    5645.283\nC(model)[T.A3]                    1610.1785    525.318      3.065      0.002     578.680    2641.676\nC(model)[T.A4]                    3864.3718    646.591      5.977      0.000    2594.746    5133.998\nC(model)[T.A5]                    2898.8868    778.363      3.724      0.000    1370.517    4427.257\nC(model)[T.A6]                    4233.4651    823.917      5.138      0.000    2615.646    5851.284\nC(model)[T.Asx]                   1657.0434    895.944      1.849      0.065    -102.206    3416.293\nC(model)[T.Beetle]                5691.8814   1329.761      4.280      0.000    3080.802    8302.961\nC(model)[T.Caddy]                 5641.0242   1587.474      3.553      0.000    2523.907    8758.141\nC(model)[T.Club]                 -3478.4671   1475.971     -2.357      0.019   -6376.640    -580.295\nC(model)[T.Fortwo]                -842.3566    702.520     -1.199      0.231   -2221.803     537.090\nC(model)[T.Golf]                  1714.4163    953.490      1.798      0.073    -157.829    3586.661\nC(model)[T.Passat]                3274.7620   1032.261      3.172      0.002    1247.844    5301.680\nC(model)[T.Polo]                    21.3025    956.392      0.022      0.982   -1856.641    1899.246\nC(model)[T.Q2]                    3580.6654    590.738      6.061      0.000    2420.710    4740.620\nC(model)[T.Q3]                    2981.2282    564.523      5.281      0.000    1872.747    4089.709\nC(model)[T.Q5]                    5486.5419    736.494      7.450      0.000    4040.384    6932.700\nC(model)[T.Sharan]                7134.5645   2162.100      3.300      0.001    2889.130    1.14e+04\nC(model)[T.T-Cross]               2341.9179   1176.752      1.990      0.047      31.282    4652.554\nC(model)[T.T-Roc]                 2816.6254   1197.086      2.353      0.019     466.062    5167.189\nC(model)[T.T6]                    1.089e+04   2143.871      5.078      0.000    6676.495    1.51e+04\nC(model)[T.Tiguan]                5217.9697   1138.834      4.582      0.000    2981.790    7454.149\nC(model)[T.Touran]                5168.1780   1185.355      4.360      0.000    2840.651    7495.705\nC(model)[T.Tt]                    3096.4783    929.138      3.333      0.001    1272.050    4920.906\nC(model)[T.Up!]                  -1733.7034   1131.929     -1.532      0.126   -3956.326     488.919\nautomatictransmission[T.True]    -1651.1661    142.146    -11.616      0.000   -1930.280   -1372.052\nguarantee[T.True]                 1.016e+04   1308.559      7.762      0.000    7587.371    1.27e+04\nkatalysator[T.True]                512.3438    261.616      1.958      0.051      -1.357    1026.044\nparkassistent[T.True]             -160.6599    282.023     -0.570      0.569    -714.431     393.111\nregenassistent[T.True]            -192.9396    337.038     -0.572      0.567    -854.737     468.858\nfernlichtassistent[T.True]        -466.8078    188.155     -2.481      0.013    -836.263     -97.352\nelheckklappe[T.True]              -275.3802    270.128     -1.019      0.308    -805.795     255.034\nabstandsassistent[T.True]          439.1838    234.127      1.876      0.061     -20.541     898.908\nlendenwirbelsttze[T.True]         -160.8667    168.728     -0.953      0.341    -492.175     170.442\nmp3[T.True]                        562.7511    352.335      1.597      0.111    -129.084    1254.586\nsonnenschutzrollo[T.True]         -296.5146    497.267     -0.596      0.551   -1272.933     679.904\nsitzheizung[T.True]                566.9490    328.792      1.724      0.085     -78.657    1212.555\nnavigation[T.True]                 235.3510    276.381      0.852      0.395    -307.342     778.044\nklimaautomatik[T.True]             903.1020    236.750      3.815      0.000     438.227    1367.977\nschiebedach[T.True]               -935.6244    887.575     -1.054      0.292   -2678.440     807.192\ndrittesitzreihe[T.True]            784.9048    769.342      1.020      0.308    -725.753    2295.562\nvariablerladeboden[T.True]         290.4717    205.387      1.414      0.158    -112.820     693.763\nheadupdisplay[T.True]              627.3583    639.595      0.981      0.327    -628.532    1883.248\npartikelfilter[T.True]            -375.8541    232.360     -1.618      0.106    -832.109      80.401\nkopfairbag[T.True]                -363.0473    279.564     -1.299      0.195    -911.991     185.896\numklappbarerckksitzbank[T.True]   -357.6889    262.509     -1.363      0.173    -873.144     157.766\nscheinwerferreinigung[T.True]      117.2165    225.459      0.520      0.603    -325.489     559.922\neinparkkamery[T.True]              746.4860    188.550      3.959      0.000     376.254    1116.718\nledscheinwerfer[T.True]            713.3108    233.298      3.058      0.002     255.214    1171.407\nxenon[T.True]                       46.0060    280.870      0.164      0.870    -505.503     597.514\nsprachsteuerung[T.True]            392.2423    276.161      1.420      0.156    -150.018     934.503\neinparkhilfehinten[T.True]        1099.5427   1217.421      0.903      0.367   -1290.950    3490.035\nreifendruckkontrolle[T.True]     -1338.6756    552.730     -2.422      0.016   -2424.000    -253.351\nmittelarmlehne[T.True]             -32.3391    267.983     -0.121      0.904    -558.543     493.865\nsportsitze[T.True]                 198.6931    168.288      1.181      0.238    -131.753     529.139\nberganfahrassistent[T.True]       -108.7871    174.620     -0.623      0.534    -451.666     234.091\ntelefon[T.True]                    -12.7175    162.097     -0.078      0.937    -331.007     305.572\nkomfortschlssel[T.True]            102.6371    205.080      0.500      0.617    -300.052     505.326\nstandheizung[T.True]              -141.5183    268.733     -0.527      0.599    -669.194     386.157\nspurhalteassistent[T.True]         811.3591    290.385      2.794      0.005     241.167    1381.551\nspurwechselassistent[T.True]      -133.3890    247.027     -0.540      0.589    -618.443     351.665\nledheckleuchten[T.True]            373.4363    199.204      1.875      0.061     -17.715     764.588\nstartstopautomatik[T.True]       -1151.2807    396.110     -2.906      0.004   -1929.071    -373.491\neinparkhilfevorne[T.True]           -3.5367    192.525     -0.018      0.985    -381.574     374.500\nservotronic[T.True]                228.9968    233.430      0.981      0.327    -229.360     687.354\nlichtassistent[T.True]             399.5797    349.299      1.144      0.253    -286.293    1085.452\nusbschnittstelle[T.True]          -133.8294    374.860     -0.357      0.721    -869.893     602.234\nfreisprechanlage[T.True]             1.0826    123.252      0.009      0.993    -240.931     243.096\ntagfahrlicht[T.True]               368.2476    480.871      0.766      0.444    -575.976    1312.471\nelsitze[T.True]                   -204.9380    319.814     -0.641      0.522    -832.915     423.038\nnebelleuchten[T.True]             -289.8617    227.132     -1.276      0.202    -735.852     156.128\neinparkhilfe[T.True]               772.5149   1324.114      0.583      0.560   -1827.476    3372.505\nmetalliclackierung[T.True]         383.2515    153.088      2.503      0.013      82.652     683.851\nsportpaket[T.True]                1070.6800    177.715      6.025      0.000     721.725    1419.635\nmultifunktionslenkrad[T.True]      381.2879    233.039      1.636      0.102     -76.300     838.876\nleichtmetallfelgen[T.True]        -117.4014    312.710     -0.375      0.707    -731.429     496.626\nalarmanlage[T.True]                281.4717    268.411      1.049      0.295    -245.572     808.516\nkurvenlicht[T.True]                293.8400    178.510      1.646      0.100     -56.678     644.358\nisofixvorbereitet[T.True]          189.7393   1041.316      0.182      0.855   -1854.957    2234.436\nbluetooth[T.True]                    1.0826    123.252      0.009      0.993    -240.931     243.096\nhandyvorbereitung[T.True]            1.0826    123.252      0.009      0.993    -240.931     243.096\nanhngerkupplung[T.True]            638.9806    168.833      3.785      0.000     307.464     970.497\nelektrdifferentialsperre[T.True]  -728.3206    262.231     -2.777      0.006   -1243.229    -213.412\nsportfahrwerk[T.True]              460.4054    217.632      2.116      0.035      33.070     887.741\ndachreling[T.True]                 194.5638    192.894      1.009      0.314    -184.197     573.325\ncdplayer[T.True]                   -15.8861    194.836     -0.082      0.935    -398.460     366.688\npanoramadach[T.True]              1236.8448    890.984      1.388      0.166    -512.665    2986.354\ngetntescheiben[T.True]              -6.0997    143.278     -0.043      0.966    -287.436     275.237\ngeschwindigkeitsassist[T.True]    -623.3398    178.003     -3.502      0.000    -972.861    -273.818\nage                               -123.0980      6.497    -18.947      0.000    -135.855    -110.341\npower                               36.1617      3.819      9.469      0.000      28.663      43.661\nengine                               0.3578      0.162      2.209      0.028       0.040       0.676\nmotorsize                            0.3578      0.162      2.209      0.028       0.040       0.676\nprevowners                         -84.3653    206.806     -0.408      0.683    -490.444     321.713\ndoors                             -191.4297    168.386     -1.137      0.256    -522.067     139.208\nseats                              -34.7102    101.012     -0.344      0.731    -233.054     163.633\nconsumption                          8.2145      8.180      1.004      0.316      -7.848      24.277\n==============================================================================\nOmnibus:                       67.633   Durbin-Watson:                   1.696\nProb(Omnibus):                  0.000   Jarque-Bera (JB):              145.708\nSkew:                           0.531   Prob(JB):                     2.29e-32\nKurtosis:                       4.876   Cond. No.                     9.93e+16\n==============================================================================\n\nWarnings:\n[1] Standard Errors assume that the covariance matrix of the errors is correctly specified.\n[2] The smallest eigenvalue is 3.94e-25. This might indicate that there are\nstrong multicollinearity problems or that the design matrix is singular.\n"
    }
   ],
   "source": [
    "mod = smf.ols(formula='price ~ 0 + C(brand) + C(model) + ' + str(' + '.join(all_cols)), data=cars_df)\n",
    "res = mod.fit()\n",
    "print(res.summary())"
   ]
  }
 ],
 "metadata": {
  "language_info": {
   "codemirror_mode": {
    "name": "ipython",
    "version": 3
   },
   "file_extension": ".py",
   "mimetype": "text/x-python",
   "name": "python",
   "nbconvert_exporter": "python",
   "pygments_lexer": "ipython3",
   "version": "3.7.5-final"
  },
  "orig_nbformat": 2,
  "kernelspec": {
   "name": "python37564bitfc42decc6e4b4913ae65faa2eb298ee5",
   "display_name": "Python 3.7.5 64-bit"
  }
 },
 "nbformat": 4,
 "nbformat_minor": 2
}