{
 "cells": [
  {
   "cell_type": "code",
   "execution_count": 7,
   "metadata": {},
   "outputs": [],
   "source": [
    "import pandas as pd\n",
    "import multiprocessing\n",
    "import tqdm\n",
    "import pickle\n",
    "import re\n",
    "\n",
    "from mypostgres import PostgresConnection\n",
    "\n",
    "from scraper import carProperties\n",
    "\n",
    "from joblib import Parallel, delayed\n",
    "num_cores = multiprocessing.cpu_count()\n",
    "\n",
    "import getpass\n"
   ]
  },
  {
   "cell_type": "markdown",
   "metadata": {},
   "source": [
    "## Scrape Pages in parallel"
   ]
  },
  {
   "cell_type": "code",
   "execution_count": 2,
   "metadata": {
    "tags": [
     "outputPrepend"
    ]
   },
   "outputs": [
    {
     "output_type": "stream",
     "name": "stderr",
     "text": "100%|██████████| 760/760 [05:06<00:00,  2.48it/s]\n"
    }
   ],
   "source": [
    "cars_list = []\n",
    "\n",
    "def get_car_data(url):\n",
    "    return carProperties(url).get_data()\n",
    "\n",
    "with open('/home/leon/Documents/repos/car-prices-analysis/crawler/links copy.csv','r') as f:\n",
    "    \n",
    "    urls = [l.strip('\\n') for l in f.readlines()]\n",
    "    cars_list = Parallel(n_jobs=num_cores)(delayed(get_car_data)(url) for url in tqdm.tqdm(urls))\n",
    "\n",
    "    cars_df = pd.concat(cars_list,axis=1).T"
   ]
  },
  {
   "cell_type": "code",
   "execution_count": 23,
   "metadata": {},
   "outputs": [],
   "source": [
    "cars_df = cars_df.infer_objects()\n",
    "cars_df['power'] = cars_df['power'].astype('int')\n",
    "cars_df[['brand','model']] = cars_df[['brand','model']].astype('category')"
   ]
  },
  {
   "cell_type": "code",
   "execution_count": 39,
   "metadata": {},
   "outputs": [],
   "source": [
    "with open('cars_data.pkl','wb') as f:\n",
    "    pickle.dump(cars_df,f)\n",
    "    "
   ]
  },
  {
   "cell_type": "code",
   "execution_count": 111,
   "metadata": {},
   "outputs": [],
   "source": [
    "with pgs.PostgresConnection(dbname='random',host='192.168.1.218',user='leon',schema='cars',password=getpass.getpass('PSQL password: ')) as conn:\n",
    "    conn.create_table_from_df(cars_df,'fct_cars')\n",
    "    conn.insert_df(cars_df,'fct_cars')"
   ]
  },
  {
   "cell_type": "code",
   "execution_count": null,
   "metadata": {},
   "outputs": [],
   "source": [
    "cars_df.describe()"
   ]
  },
  {
   "cell_type": "markdown",
   "metadata": {},
   "source": [
    "todo:\n",
    "- plot correlation heatmap for exogenous variables\n",
    "- remove multicolinearity\n",
    "- check for other biases"
   ]
  }
 ],
 "metadata": {
  "language_info": {
   "codemirror_mode": {
    "name": "ipython",
    "version": 3
   },
   "file_extension": ".py",
   "mimetype": "text/x-python",
   "name": "python",
   "nbconvert_exporter": "python",
   "pygments_lexer": "ipython3",
   "version": "3.8.2-final"
  },
  "orig_nbformat": 2,
  "kernelspec": {
   "name": "python37564bitfc42decc6e4b4913ae65faa2eb298ee5",
   "display_name": "Python 3.7.5 64-bit"
  }
 },
 "nbformat": 4,
 "nbformat_minor": 2
}