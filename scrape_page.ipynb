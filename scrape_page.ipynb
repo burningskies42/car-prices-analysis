{
 "cells": [
  {
   "cell_type": "code",
   "execution_count": 2,
   "metadata": {},
   "outputs": [],
   "source": [
    "import requests\n",
    "import urllib.request\n",
    "import time\n",
    "from bs4 import BeautifulSoup\n",
    "import re\n",
    "import pandas as pd"
   ]
  },
  {
   "cell_type": "code",
   "execution_count": 3,
   "metadata": {},
   "outputs": [],
   "source": [
    "class carProperties(object):\n",
    "    def __init__(self, url):\n",
    "        self.url = url\n",
    "        self._soup = None\n",
    "        self.title = None\n",
    "        self.price = None\n",
    "        self.overview_dict = dict()\n",
    "        self.consupmtion_attributes_dict = dict()\n",
    "\n",
    "        self.parse()\n",
    "        self.build()\n",
    "\n",
    "    def parse(self):\n",
    "        response = requests.get(self.url)\n",
    "        self._soup = BeautifulSoup(response.text, 'html.parser')\n",
    "\n",
    "    def get_title(self):\n",
    "        self.title = self._soup.findAll('h1')[0].text\n",
    "\n",
    "    def get_price(self):\n",
    "        self.price = self._soup.body.findAll(text='Preis')[0].parent.parent.findAll('p')[1].text\n",
    "\n",
    "    def get_overview(self):\n",
    "        self.overview_dict = {l.findChild('dt').text.replace(':','') :l.findChild('dd').text for l in self._soup.findAll('dl')}\n",
    "\n",
    "    def get_consumption(self):\n",
    "        consupmtion_attributes_list =[\n",
    "            'Verbrauch außerorts', 'Verbrauch kombiniert', 'Zugrunde liegende Treibstoffart',\n",
    "            'CO2-Emissionen', 'Umweltplakette', 'Abgasnorm', 'Jahressteuer']\n",
    "\n",
    "        self.consupmtion_attributes_dict=dict()\n",
    "\n",
    "        for k in consupmtion_attributes_list:\n",
    "            try:\n",
    "                self.consupmtion_attributes_dict[k] = self._soup.body.findAll(text=k)[0].parent.parent.findAll('div')[1].text\n",
    "            except:\n",
    "                print(f'Attribute {k} not found')\n",
    "\n",
    "    def build(self):\n",
    "        self.get_title()\n",
    "        self.get_price()\n",
    "        self.get_overview()\n",
    "        self.get_consumption()\n"
   ]
  },
  {
   "cell_type": "code",
   "execution_count": 4,
   "metadata": {},
   "outputs": [
    {
     "output_type": "stream",
     "name": "stdout",
     "text": "Attribute CO2-Emissionen not found\n"
    }
   ],
   "source": [
    "url = 'https://www.mahag.de/gebrauchte/fahrzeugsuche/?ahPg=show.vehicle.html&ahId=4317829'\n",
    "\n",
    "new_car = carProperties(url)\n"
   ]
  },
  {
   "cell_type": "code",
   "execution_count": 5,
   "metadata": {
    "tags": [
     "outputPrepend"
    ]
   },
   "outputs": [
    {
     "output_type": "stream",
     "name": "stdout",
     "text": "<class 'bs4.element.Tag'> \nÜbersicht Ausstattung\n\n\n ABS\n Antischlupfregelung\n Beifahrerairbag\n Berganfahrassistent\n Bluetooth\n Bordcomputer\n Freisprechanlage\n\n\n Handyvorbereitung\n ISOFIX vorbereitet\n Katalysator\n Klimaanlage\n Kopfairbag\n Lichtassistent\n MP3\n\n\n Multifunktionsdisplay\n Radio\n Reifendruckkontrolle\n Seitenairbag\n Servolenkung\n Sitzheizung\n Stabilitätsprogramm\n\n\n Start-/Stop-Automatik\n Tagfahrlicht\n USB-Schnittstelle\n Wegfahrsperre\n Zentralverriegelung\n el. Fensterheber\n elektr. Differentialsperre\n\n\n\n"
    }
   ],
   "source": [
    "for l in new_car._soup.findAll(\"div\", {\"class\": \"container-equipment\"}):\n",
    "    print(type(l),l.text)"
   ]
  },
  {
   "cell_type": "code",
   "execution_count": 167,
   "metadata": {},
   "outputs": [
    {
     "output_type": "execute_result",
     "data": {
      "text/plain": "'6,0 l/100km'"
     },
     "metadata": {},
     "execution_count": 167
    }
   ],
   "source": [
    "soup.body.findAll(text='Verbrauch innerorts')[0].parent.parent.findAll('div')[1].text"
   ]
  },
  {
   "cell_type": "code",
   "execution_count": 33,
   "metadata": {},
   "outputs": [
    {
     "output_type": "stream",
     "name": "stdout",
     "text": "\n <class 'bs4.element.NavigableString'>\n----------\n<h4 class=\"uk-margin-large-top\">Übersicht Ausstattung</h4> <class 'bs4.element.Tag'>\n----------\n\n <class 'bs4.element.NavigableString'>\n----------\n<div class=\"uk-grid\">\n<div class=\"uk-width-mini-1-1 uk-width-small-1-2 uk-width-large-1-4\">\n<img src=\"//homepage.autohausen.de/demo2.1/static/default/images/list-images/ok-3ebdcc.png\"/> ABS<br/>\n<img src=\"//homepage.autohausen.de/demo2.1/static/default/images/list-images/ok-3ebdcc.png\"/> Antischlupfregelung<br/>\n<img src=\"//homepage.autohausen.de/demo2.1/static/default/images/list-images/ok-3ebdcc.png\"/> Beifahrerairbag<br/>\n<img src=\"//homepage.autohausen.de/demo2.1/static/default/images/list-images/ok-3ebdcc.png\"/> Berganfahrassistent<br/>\n<img src=\"//homepage.autohausen.de/demo2.1/static/default/images/list-images/ok-3ebdcc.png\"/> Bluetooth<br/>\n<img src=\"//homepage.autohausen.de/demo2.1/static/default/images/list-images/ok-3ebdcc.png\"/> Bordcomputer<br/>\n<img src=\"//homepage.autohausen.de/demo2.1/static/default/images/list-images/ok-3ebdcc.png\"/> Freisprechanlage<br/>\n</div>\n<div class=\"uk-width-mini-1-1 uk-width-small-1-2 uk-width-large-1-4\">\n<img src=\"//homepage.autohausen.de/demo2.1/static/default/images/list-images/ok-3ebdcc.png\"/> Handyvorbereitung<br/>\n<img src=\"//homepage.autohausen.de/demo2.1/static/default/images/list-images/ok-3ebdcc.png\"/> ISOFIX vorbereitet<br/>\n<img src=\"//homepage.autohausen.de/demo2.1/static/default/images/list-images/ok-3ebdcc.png\"/> Katalysator<br/>\n<img src=\"//homepage.autohausen.de/demo2.1/static/default/images/list-images/ok-3ebdcc.png\"/> Klimaanlage<br/>\n<img src=\"//homepage.autohausen.de/demo2.1/static/default/images/list-images/ok-3ebdcc.png\"/> Kopfairbag<br/>\n<img src=\"//homepage.autohausen.de/demo2.1/static/default/images/list-images/ok-3ebdcc.png\"/> Lichtassistent<br/>\n<img src=\"//homepage.autohausen.de/demo2.1/static/default/images/list-images/ok-3ebdcc.png\"/> MP3<br/>\n</div>\n<div class=\"uk-width-mini-1-1 uk-width-small-1-2 uk-width-large-1-4\">\n<img src=\"//homepage.autohausen.de/demo2.1/static/default/images/list-images/ok-3ebdcc.png\"/> Multifunktionsdisplay<br/>\n<img src=\"//homepage.autohausen.de/demo2.1/static/default/images/list-images/ok-3ebdcc.png\"/> Radio<br/>\n<img src=\"//homepage.autohausen.de/demo2.1/static/default/images/list-images/ok-3ebdcc.png\"/> Reifendruckkontrolle<br/>\n<img src=\"//homepage.autohausen.de/demo2.1/static/default/images/list-images/ok-3ebdcc.png\"/> Seitenairbag<br/>\n<img src=\"//homepage.autohausen.de/demo2.1/static/default/images/list-images/ok-3ebdcc.png\"/> Servolenkung<br/>\n<img src=\"//homepage.autohausen.de/demo2.1/static/default/images/list-images/ok-3ebdcc.png\"/> Sitzheizung<br/>\n<img src=\"//homepage.autohausen.de/demo2.1/static/default/images/list-images/ok-3ebdcc.png\"/> Stabilitätsprogramm<br/>\n</div>\n<div class=\"uk-width-mini-1-1 uk-width-small-1-2 uk-width-large-1-4\">\n<img src=\"//homepage.autohausen.de/demo2.1/static/default/images/list-images/ok-3ebdcc.png\"/> Start-/Stop-Automatik<br/>\n<img src=\"//homepage.autohausen.de/demo2.1/static/default/images/list-images/ok-3ebdcc.png\"/> Tagfahrlicht<br/>\n<img src=\"//homepage.autohausen.de/demo2.1/static/default/images/list-images/ok-3ebdcc.png\"/> USB-Schnittstelle<br/>\n<img src=\"//homepage.autohausen.de/demo2.1/static/default/images/list-images/ok-3ebdcc.png\"/> Wegfahrsperre<br/>\n<img src=\"//homepage.autohausen.de/demo2.1/static/default/images/list-images/ok-3ebdcc.png\"/> Zentralverriegelung<br/>\n<img src=\"//homepage.autohausen.de/demo2.1/static/default/images/list-images/ok-3ebdcc.png\"/> el. Fensterheber<br/>\n<img src=\"//homepage.autohausen.de/demo2.1/static/default/images/list-images/ok-3ebdcc.png\"/> elektr. Differentialsperre<br/>\n</div>\n</div> <class 'bs4.element.Tag'>\n----------\n\n <class 'bs4.element.NavigableString'>\n----------\n"
    }
   ],
   "source": [
    "\n",
    "for l1 in l.children:\n",
    "    print(l1,type(l1))\n",
    "    print('-'*10)\n",
    "\n",
    "# new_car._soup.body.findAll(text='Bordcomputer')\n",
    "# .parent.parent.findAll('div')[1].text"
   ]
  },
  {
   "cell_type": "code",
   "execution_count": 8,
   "metadata": {},
   "outputs": [
    {
     "output_type": "execute_result",
     "data": {
      "text/plain": "<img src=\"//homepage.autohausen.de/demo2.1/static/default/images/list-images/ok-3ebdcc.png\"/>"
     },
     "metadata": {},
     "execution_count": 8
    }
   ],
   "source": []
  }
 ],
 "metadata": {
  "language_info": {
   "codemirror_mode": {
    "name": "ipython",
    "version": 3
   },
   "file_extension": ".py",
   "mimetype": "text/x-python",
   "name": "python",
   "nbconvert_exporter": "python",
   "pygments_lexer": "ipython3",
   "version": "3.7.5-final"
  },
  "orig_nbformat": 2,
  "kernelspec": {
   "name": "python37564bitfc42decc6e4b4913ae65faa2eb298ee5",
   "display_name": "Python 3.7.5 64-bit"
  }
 },
 "nbformat": 4,
 "nbformat_minor": 2
}